{
 "cells": [
  {
   "cell_type": "markdown",
   "metadata": {},
   "source": [
    "Task 2: Build a simple python scraper script for the following website, print the content as an output in Google Colab.\n",
    "https://techcrunch.com/2024/04/30/sams-clubs-ai-powered-exit-tech-reaches-20-of-stores/ "
   ]
  },
  {
   "cell_type": "code",
   "execution_count": 2,
   "metadata": {},
   "outputs": [],
   "source": [
    "# Import necessary libraries\n",
    "import requests\n",
    "from bs4 import BeautifulSoup"
   ]
  },
  {
   "cell_type": "code",
   "execution_count": 3,
   "metadata": {},
   "outputs": [
    {
     "name": "stdout",
     "output_type": "stream",
     "text": [
      "Title: Sam’s Club’s AI-powered exit tech reaches 20% of stores\n",
      "\n",
      "Content:\n",
      "Comment\n",
      "Amazon may be scaling back its AI-powered Just Walk Out checkout-free tech in its stores in favor of smart shopping carts, but Walmart-owned Sam’s Club says it’s turning to AI to speed up its own exit technology. Instead of requiring store staff to check members’ purchases against their receipts when leaving the store, Sam’s Club customers who pay either at a register or through the Scan & Go mobile app can now walk out of the store without having their purchases double-checked.\n",
      "The technology, unveiled at the Consumer Electronics Show in January, has now been deployed at over 120 clubs across the U.S., which is 20% of the total number of Sam’s Club locations. Since rolling out, the company claims that it has significantly sped up exits, as members leave the store 23% faster. The retailer plans to expand the tech to all its stores by year-end.\n",
      "The system works via a combination of computer vision and digital tech that captures images of customers’ carts and then verifies payment for the items in their basket. Sam’s Club says AI is used in the background to speed up the process. The AI also learns and improves over time as thousands of exit transactions across locations are analyzed.\n",
      "Before the technology was put into place, Sam’s Club members would have to queue up at the store’s exit to wait to have their receipts checked. The new solution keeps them moving along and frees up store staff to focus on other tasks.\n",
      "The company also took a subtle shot at rival Amazon in announcing the expansion, noting that its technology arrives as “other retailers have struggled to deploy similar technology at scale, with some abandoning efforts” — a clear reference to Amazon’s pullback on Just Walk Out. In addition, Amazon had to fend off criticism that its AI tech had relied on 1,000 some human workers to review transactions. Amazon said machine learning had powered its technology and that contractors were only annotating the AI and shopping data to improve the system.\n",
      "By comparison, Sam’s Club says it has less than 40 employees working on deployment of exit technology, including engineering, product, UX, marketing, operations, and real estate.\n",
      "Every weekday and Sunday, you can get the best of TechCrunch’s coverage.\n",
      "Startups are the core of TechCrunch, so get our best coverage delivered weekly.\n",
      "The latest Fintech news and analysis, delivered every Tuesday.\n",
      "TechCrunch Mobility is your destination for transportation news and insight.\n",
      "By submitting your email, you agree to our Terms and Privacy Notice.\n",
      "\t\t\t\n",
      "Amsterdam-based Brineworks, a company specializing in seawater electrolysis technology, says its innovative method is expected to cost under $100 per ton of CO2 at scale. \n",
      "It’s been a tumultuous week for OpenAI, full of executive departures and major fundraising developments, but the startup is back at it, trying to convince developers to build tools with… \n",
      "The new capability, rolling out Tuesday, will help advertisers who want to enhance their Pinterest Product Pins (ads) and attract more clicks, according to Pinterest. \n",
      "Monorepos are becoming an increasingly popular way to manage source code, but they require a slightly different toolset. Google developed its own internal build and test tool on top of… \n",
      "Sometimes, a demo is all you need to understand a product. And that’s the case with Runware. If you head over to Runware’s website, enter a prompt and hit enter… \n",
      "Where most startups aim to recreate the superheated, super-pressurized conditions inside of a star, Acceleron takes a different approach. \n",
      "Microsoft was ahead of the game in the world of enterprise AR. \n",
      "Get ready for TechCrunch Disrupt 2024, our signature event for startups of all stages, taking place at Moscone West in San Francisco from October 28-30. This year, we’re expecting a… \n",
      "Last year, Sound Ventures, the 9-year-old, Beverly Hills, California-based venture firm led by general partners Ashton Kutcher, Guy Oseary, and Effie Epstein, announced a new $265 million AI fund that… \n",
      "Numa, a startup developing AI-powered automation tech for car dealerships, has raised fresh capital in a Series B round. \n",
      "Featured Article\n",
      "Jesse Kipf was a prolific hacker who sold access to systems he hacked, had contacts with a notorious cybercrime gang, and tried to use his hacking skills to get off the grid for good. \n",
      "Ford is slashing both the monthly and annual cost of its hands-free driver-assistance feature, BlueCruise, for new and existing owners in response to “customer and dealer” feedback, the company tells… \n",
      "Drones and sidewalk delivery robots promise to make last-mile delivery cheaper and more efficient, but they both have their limitations. Drones have trouble touching down in dense urban areas, and… \n",
      "People participating on the open social web have a problem: It’s not yet possible to reach users on multiple sites like Bluesky, Mastodon, and Threads with a single post. While… \n",
      "Microsoft has given its Copilot assistant on Windows a makeover — and a voice. Copilot can now read your screen, speak aloud, and more. \n",
      "Microsoft has broadly launched Bing Generative Search, its answer to Google’s AI Overviews and other AI-powered search apps. \n",
      "Microsoft is paying publishers for content as part of a new Copilot feature, Copilot Daily, that gives a spoken summary of current events. \n",
      "Evil Corp maintains a “privileged” relationship with the Kremlin, and was often tasked with launching cyberattacks on behalf of Russia.  \n",
      "E-commerce giant eBay, facing stiff competition from newer rivals, has removed final-value sales fees for all items excluding cars sold domestically in the U.K. This mirrors a similar move the… \n",
      "Google is announcing new Chromebook models today with Samsung and Lenovo. With Samsung’s Galaxy Chromebook Plus model in particular, the company is also introducing a new multifunctional quick insert key.… \n",
      "Anduril sued defense tech startup Salient Motion. It still raised $12 million with participation from Anduril investor a16z. \n",
      "The company laid out a plan it hopes will go a long way toward reversing fortunes and repairing relationships. \n",
      "A team of founders who sold their last company to Amazon to build a new unit within AWS is setting out to reinvent the tricky business of backing up organizations’… \n",
      "Air Doctor’s platform helps travelers find doctors in other countries, and it has now raised $20 million in a Series B round after seeing strong traction.  \n",
      "Featured Article\n",
      "Sequoia is investing $12.5M in UK startup Pydantic to help it expand beyond its open source data-validation framework. \n",
      "Invesco has raised the value of its stake in Swiggy, ascribing an implied valuation of about $13.3 billion to the Indian food delivery and quick-commerce startup. \n",
      "The world of WordPress, one of the most popular technologies for creating and hosting websites, is going through a very heated controversy. The core issue is the fight between WordPress… \n",
      "Anduril is expanding even further into the “ultimate high ground.”  The company, which is best known for AI-powered defense products that span air, land and sea, is partnering with satellite… \n",
      "With this merger, Dott and Tier didn’t want to build a conglomerate of micromobility services; the operation was all about scale. \n",
      "Meta’s AI-powered Ray-Bans have a discreet camera on the front, for taking photos not just when you ask them to, but also when their AI features trigger it with certain… \n",
      "Powered by WordPress VIP\n"
     ]
    }
   ],
   "source": [
    "\n",
    "# URL of the page to scrape\n",
    "url = 'https://techcrunch.com/2024/04/30/sams-clubs-ai-powered-exit-tech-reaches-20-of-stores/'\n",
    "\n",
    "# Make a request to the webpage\n",
    "response = requests.get(url)\n",
    "\n",
    "# Check if the request was successful\n",
    "if response.status_code == 200:\n",
    "    # Parse the content of the page\n",
    "    soup = BeautifulSoup(response.text, 'html.parser')\n",
    "    \n",
    "    # Extract the article title\n",
    "    title = soup.find('h1').text\n",
    "    print(\"Title:\", title)\n",
    "    \n",
    "    # Extract the article content\n",
    "    content = soup.find_all('p')\n",
    "    \n",
    "    print(\"\\nContent:\")\n",
    "    for paragraph in content:\n",
    "        print(paragraph.text)\n",
    "else:\n",
    "    print(f\"Failed to retrieve the page. Status code: {response.status_code}\")\n"
   ]
  },
  {
   "cell_type": "code",
   "execution_count": null,
   "metadata": {},
   "outputs": [],
   "source": []
  }
 ],
 "metadata": {
  "kernelspec": {
   "display_name": "MachineLearning",
   "language": "python",
   "name": "python3"
  },
  "language_info": {
   "codemirror_mode": {
    "name": "ipython",
    "version": 3
   },
   "file_extension": ".py",
   "mimetype": "text/x-python",
   "name": "python",
   "nbconvert_exporter": "python",
   "pygments_lexer": "ipython3",
   "version": "3.11.9"
  }
 },
 "nbformat": 4,
 "nbformat_minor": 2
}
